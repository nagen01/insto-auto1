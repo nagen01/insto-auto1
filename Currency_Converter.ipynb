{
  "nbformat": 4,
  "nbformat_minor": 0,
  "metadata": {
    "colab": {
      "name": "Currency Converter.ipynb",
      "provenance": [],
      "collapsed_sections": [],
      "authorship_tag": "ABX9TyPUQbPnNJz9XhFI546RiYO2",
      "include_colab_link": true
    },
    "kernelspec": {
      "name": "python3",
      "display_name": "Python 3"
    }
  },
  "cells": [
    {
      "cell_type": "markdown",
      "metadata": {
        "id": "view-in-github",
        "colab_type": "text"
      },
      "source": [
        "<a href=\"https://colab.research.google.com/github/nagen01/insto-auto1/blob/master/Currency_Converter.ipynb\" target=\"_parent\"><img src=\"https://colab.research.google.com/assets/colab-badge.svg\" alt=\"Open In Colab\"/></a>"
      ]
    },
    {
      "cell_type": "markdown",
      "metadata": {
        "id": "Dns2E31RzCPB",
        "colab_type": "text"
      },
      "source": [
        "# This program convert a given currency from one to another\n",
        "For example:\n",
        "\n",
        "User input:  AUD 100.00 in USD\n",
        "\n",
        "Output    :  AUD 100.00 = USD 83.71"
      ]
    },
    {
      "cell_type": "code",
      "metadata": {
        "id": "M-w1-YOd1o8E",
        "colab_type": "code",
        "colab": {}
      },
      "source": [
        "#import important libraries:\n",
        "import pandas as pd"
      ],
      "execution_count": 0,
      "outputs": []
    },
    {
      "cell_type": "code",
      "metadata": {
        "id": "GoWGReU8zvwz",
        "colab_type": "code",
        "outputId": "b69da5a1-67c0-421e-8b0d-3f4dafc15c9d",
        "colab": {
          "base_uri": "https://localhost:8080/",
          "height": 35
        }
      },
      "source": [
        "#Get the user input\n",
        "user_input = input(\"Enter value to be converted from one currency to another in 'AUD 100.00 in USD' format:\")\n",
        "\n",
        "#Note: User_input other than given format will not hold good, help to test with the required format only....."
      ],
      "execution_count": 967,
      "outputs": [
        {
          "output_type": "stream",
          "text": [
            "Enter value to be converted from one currency to another in 'AUD 100.00 in USD' format:EUR 100.00 in CZK\n"
          ],
          "name": "stdout"
        }
      ]
    },
    {
      "cell_type": "code",
      "metadata": {
        "id": "7n0dNGzl0yxN",
        "colab_type": "code",
        "colab": {}
      },
      "source": [
        "#Loading conversion rate, cross conversion table etc...\n",
        "cr = pd.read_csv(\"/content/sample_data/Conversion rate.csv\", header = None, names = ['from-to','conversion_rate'])\n",
        "cct = pd.read_csv(\"/content/sample_data/Cross conversion table.csv\")\n",
        "op = pd.read_csv(\"/content/sample_data/Output Precision.csv\", header = None, names = ['country', 'no_of_decimal_places', 'dec'])"
      ],
      "execution_count": 0,
      "outputs": []
    },
    {
      "cell_type": "code",
      "metadata": {
        "id": "3k616mGRLZXp",
        "colab_type": "code",
        "colab": {}
      },
      "source": [
        "#Seperating the input into parts for further processing:\n",
        "from_curr = user_input[0:3]\n",
        "from_value = user_input[4:10]\n",
        "to_curr = user_input[14:17]\n",
        "\n",
        "#Storing values for future use:\n",
        "f_curr = from_curr\n",
        "t_curr = to_curr"
      ],
      "execution_count": 0,
      "outputs": []
    },
    {
      "cell_type": "code",
      "metadata": {
        "id": "c28Z1w_LkoFJ",
        "colab_type": "code",
        "outputId": "f110b0cd-35bc-4d35-fdb2-723c41212358",
        "colab": {
          "base_uri": "https://localhost:8080/",
          "height": 54
        }
      },
      "source": [
        "#Checking for currencies availability entered by user:\n",
        "list_ccr = ['AUD','CAD','CNY','CZK','DKK','EUR','GBP','JPY','NOK','NZD','USD']\n",
        "\n",
        "if f_curr and t_curr in list_ccr:\n",
        "  if f_conversion_method(from_curr,to_curr) not in list_ccr:\n",
        "    op_val = convrt(from_curr, to_curr)\n",
        "  else:\n",
        "    i_conver_method = f_conversion_method(from_curr,to_curr)\n",
        "    op_val = convrt(from_curr, i_conver_method[0])*convrt(i_conver_method[0], to_curr)\n",
        "\n",
        "  #Finding the number of decimal points in output:\n",
        "  k = int(op.loc[op['country'] == f_curr]['no_of_decimal_places'].values)\n",
        "\n",
        "  #Printing the final output:\n",
        "  if f_curr == t_curr:\n",
        "    print(f\"{f_curr} {float(from_value)} = {t_curr} {round(op_val,k)}\")\n",
        "  else:\n",
        "    print(f\"{f_curr} {float(from_value)} = {t_curr} {round(op_val[0],k)}\")\n",
        "else:\n",
        "  print(f\"Unable to find rate for {f_curr}/{t_curr}\")\n",
        "\n",
        "print(f\"This is final output for user input : {user_input}\")"
      ],
      "execution_count": 970,
      "outputs": [
        {
          "output_type": "stream",
          "text": [
            "EUR 100.0 = CZK 2760.28\n",
            "This is final output for user input : EUR 100.00 in CZK\n"
          ],
          "name": "stdout"
        }
      ]
    },
    {
      "cell_type": "code",
      "metadata": {
        "id": "MC-0pwOehG8B",
        "colab_type": "code",
        "colab": {}
      },
      "source": [
        "#Function for converting the value\n",
        "def convrt(from_curr, to_curr):\n",
        "  cr_rate_id = cr_concat(from_curr, to_curr)\n",
        "  if f_conversion_method(from_curr,to_curr) == 'D':\n",
        "    op_val = d_convert(cr_rate_id)\n",
        "  elif f_conversion_method(from_curr,to_curr) == 'Inv':\n",
        "    op_val = inv_convert(cr_rate_id)\n",
        "  elif f_conversion_method(from_curr,to_curr) == '1:1':\n",
        "    op_val = one_to_one_convert()\n",
        "  else:\n",
        "    print(f\"Unable to find rate for {f_curr}/{t_curr}\")\n",
        "  return op_val\n"
      ],
      "execution_count": 0,
      "outputs": []
    },
    {
      "cell_type": "code",
      "metadata": {
        "id": "DMbvM5f5Lr5v",
        "colab_type": "code",
        "colab": {}
      },
      "source": [
        "#Checking in cross conversion table\n",
        "def f_conversion_method(from_curr, to_curr):\n",
        "  conversion_method = cct.loc[cct['/'] == from_curr][to_curr].values\n",
        "  return conversion_method"
      ],
      "execution_count": 0,
      "outputs": []
    },
    {
      "cell_type": "code",
      "metadata": {
        "id": "BqABptegjZuM",
        "colab_type": "code",
        "colab": {}
      },
      "source": [
        "#Function for concatinating the currencies\n",
        "def cr_concat(from_curr, to_curr):\n",
        "  from_to_curr = from_curr + to_curr\n",
        "  return from_to_curr"
      ],
      "execution_count": 0,
      "outputs": []
    },
    {
      "cell_type": "code",
      "metadata": {
        "id": "ddlXloGwtwu8",
        "colab_type": "code",
        "colab": {}
      },
      "source": [
        "#Functions for direct conversion \n",
        "def d_convert(cr_rate_id):\n",
        "  return float(from_value)*cr.loc[cr['from-to'] == cr_rate_id]['conversion_rate'].values\n",
        "\n",
        "#Function for inverted conversion\n",
        "def inv_convert(cr_rate_id):\n",
        "  cr_rate_id = cr_rate_id[3:6] + cr_rate_id[:3]\n",
        "  return float(from_value)*(1/cr.loc[cr['from-to'] == cr_rate_id]['conversion_rate'].values)\n",
        "\n",
        "#Function for self conversion\n",
        "def one_to_one_convert():\n",
        "  return float(from_value)*1.00"
      ],
      "execution_count": 0,
      "outputs": []
    },
    {
      "cell_type": "markdown",
      "metadata": {
        "id": "lyjijfPoUrnA",
        "colab_type": "text"
      },
      "source": [
        "#Test Cases:\n",
        "All the below inputs entered manyally during program execution and passed successfully....\n",
        "\n",
        "EUR 100.00 in CZK  => for Direct\n",
        "\n",
        "EUR 100.00 in GBP  => EUR > USD > GBP (1)\n",
        "\n",
        "GBP 100.00 in EUR  => GBP > USD > EUR (2)\n",
        "\n",
        "DKK 100.00 in DKK  => 1:1\n",
        "\n",
        "DKK 100.00 in EUR  => Inverted (1)\n",
        "\n",
        "EUR 100.00 in DKK  => Inverted (2)\n",
        "\n",
        "NOK 100.00 in DKD  => (not possible) \n"
      ]
    }
  ]
}