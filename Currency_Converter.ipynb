{
  "nbformat": 4,
  "nbformat_minor": 0,
  "metadata": {
    "colab": {
      "name": "Currency Converter.ipynb",
      "provenance": [],
      "collapsed_sections": [],
      "authorship_tag": "ABX9TyNCAxGts3OQSKtXpg9DbNki",
      "include_colab_link": true
    },
    "kernelspec": {
      "name": "python3",
      "display_name": "Python 3"
    }
  },
  "cells": [
    {
      "cell_type": "markdown",
      "metadata": {
        "id": "view-in-github",
        "colab_type": "text"
      },
      "source": [
        "<a href=\"https://colab.research.google.com/github/nagen01/insto-auto1/blob/master/Currency_Converter.ipynb\" target=\"_parent\"><img src=\"https://colab.research.google.com/assets/colab-badge.svg\" alt=\"Open In Colab\"/></a>"
      ]
    },
    {
      "cell_type": "markdown",
      "metadata": {
        "id": "Dns2E31RzCPB",
        "colab_type": "text"
      },
      "source": [
        "# This program convert a given currency from one to another\n",
        "For example:\n",
        "\n",
        "User input:  AUD 100.00 in USD\n",
        "\n",
        "Output    :  AUD 100.00 = USD 83.71"
      ]
    },
    {
      "cell_type": "code",
      "metadata": {
        "id": "M-w1-YOd1o8E",
        "colab_type": "code",
        "colab": {}
      },
      "source": [
        "#import important libraries:\n",
        "import pandas as pd\n",
        "import re"
      ],
      "execution_count": 0,
      "outputs": []
    },
    {
      "cell_type": "code",
      "metadata": {
        "id": "7n0dNGzl0yxN",
        "colab_type": "code",
        "colab": {}
      },
      "source": [
        "#Loading conversion rate, cross conversion table etc...\n",
        "cr = pd.read_csv(\"/content/sample_data/Conversion rate.csv\", header = None, names = ['from-to','conversion_rate'])\n",
        "cct = pd.read_csv(\"/content/sample_data/Cross conversion table.csv\")\n",
        "op = pd.read_csv(\"/content/sample_data/Output Precision.csv\", header = None, names = ['country', 'no_of_decimal_places', 'dec'])"
      ],
      "execution_count": 0,
      "outputs": []
    },
    {
      "cell_type": "code",
      "metadata": {
        "id": "GoWGReU8zvwz",
        "colab_type": "code",
        "outputId": "1aa54c14-2152-4464-d2b4-68fc9e627c5d",
        "colab": {
          "base_uri": "https://localhost:8080/",
          "height": 199
        }
      },
      "source": [
        "#Get the user input in desired format:\n",
        "pattern = re.compile(\"^[a-zA-Z]{3}\\s\\d+.\\d{2}\\sin\\s[a-zA-Z]{3}$\") #Required format\n",
        "print(\"Enter value to be converted from one currency to another in 'AUD 100.00 in USD' format:\")\n",
        "user_input = input(\"\")\n",
        "while not pattern.match(user_input):\n",
        "  print(\"Desired input format : 'AUD 100.00 in USD', Enter 'q' and for exit\")\n",
        "  user_input = input(\"\")\n",
        "  if user_input == 'q':\n",
        "    break\n",
        "\n",
        "#Note: User_input other than given format will not hold good, help to test with the required format only....."
      ],
      "execution_count": 424,
      "outputs": [
        {
          "output_type": "stream",
          "text": [
            "Enter value to be converted from one currency to another in 'AUD 100.00 in USD' format:\n",
            "DKK 744.00 in EUR  op\n",
            "Desired input format : 'AUD 100.00 in USD', Enter 'q' and for exit\n",
            "DKK 744.00 in EU\n",
            "Desired input format : 'AUD 100.00 in USD', Enter 'q' and for exit\n",
            "DKK 74o.00 in EUr\n",
            "Desired input format : 'AUD 100.00 in USD', Enter 'q' and for exit\n",
            "DKeK 744.00 in EUR\n",
            "Desired input format : 'AUD 100.00 in USD', Enter 'q' and for exit\n",
            "q\n"
          ],
          "name": "stdout"
        }
      ]
    },
    {
      "cell_type": "code",
      "metadata": {
        "id": "DMbvM5f5Lr5v",
        "colab_type": "code",
        "colab": {}
      },
      "source": [
        "#Checking in cross conversion table\n",
        "def f_conversion_method(from_curr, to_curr):\n",
        "  conversion_method = cct.loc[cct['/'] == from_curr][to_curr].values\n",
        "  return conversion_method"
      ],
      "execution_count": 0,
      "outputs": []
    },
    {
      "cell_type": "code",
      "metadata": {
        "id": "BqABptegjZuM",
        "colab_type": "code",
        "colab": {}
      },
      "source": [
        "#Function for concatinating the currencies\n",
        "def cr_concat(from_curr, to_curr):\n",
        "  from_to_curr = from_curr + to_curr\n",
        "  return from_to_curr"
      ],
      "execution_count": 0,
      "outputs": []
    },
    {
      "cell_type": "code",
      "metadata": {
        "id": "ddlXloGwtwu8",
        "colab_type": "code",
        "colab": {}
      },
      "source": [
        "#Functions for direct conversion \n",
        "def d_convert(fr_val,cr_rate_id):\n",
        "  return float(fr_val)*cr.loc[cr['from-to'] == cr_rate_id]['conversion_rate'].values\n",
        "\n",
        "#Function for inverted conversion\n",
        "def inv_convert(fr_val,cr_rate_id):\n",
        "  cr_rate_id = cr_rate_id[3:6] + cr_rate_id[:3]\n",
        "  return float(fr_val)*(1/cr.loc[cr['from-to'] == cr_rate_id]['conversion_rate'].values)\n",
        "\n",
        "#Function for self conversion\n",
        "def one_to_one_convert():\n",
        "  return f_value"
      ],
      "execution_count": 0,
      "outputs": []
    },
    {
      "cell_type": "code",
      "metadata": {
        "id": "MC-0pwOehG8B",
        "colab_type": "code",
        "colab": {}
      },
      "source": [
        "#Function for converting the value\n",
        "def convrt(fr_val, from_curr, to_curr):\n",
        "  cr_rate_id = cr_concat(from_curr, to_curr)\n",
        "  if f_conversion_method(from_curr,to_curr) == 'D':\n",
        "    op_val = d_convert(fr_val,cr_rate_id)\n",
        "  elif f_conversion_method(from_curr,to_curr) == 'Inv':\n",
        "    op_val = inv_convert(fr_val,cr_rate_id)\n",
        "  elif f_conversion_method(from_curr,to_curr) == '1:1':\n",
        "    op_val = one_to_one_convert()\n",
        "  else:\n",
        "    print(f\"Unable to find rate for {f_curr}/{t_curr}\")\n",
        "  return op_val\n"
      ],
      "execution_count": 0,
      "outputs": []
    },
    {
      "cell_type": "code",
      "metadata": {
        "id": "3k616mGRLZXp",
        "colab_type": "code",
        "outputId": "cd8a4be7-ef83-4d3a-b17f-987c24e2107e",
        "colab": {
          "base_uri": "https://localhost:8080/",
          "height": 35
        }
      },
      "source": [
        "#Checking for currencies availability entered by user:\n",
        "list_ccr = cct[\"/\"].to_list() #Converting currency column in to list\n",
        "\n",
        "if user_input != 'q':\n",
        "  #Seperating the input into parts for further processing:\n",
        "  from_curr = user_input[0:3].upper()\n",
        "  from_value = float(user_input[4:-7])\n",
        "  to_curr = user_input[-3:].upper()\n",
        "\n",
        "  #Storing values for future use:\n",
        "  f_curr = from_curr\n",
        "  f_value = user_input[4:-7]\n",
        "  t_curr = to_curr\n",
        "  \n",
        "  #Main processing to get the desired result:\n",
        "  if f_curr and t_curr in list_ccr:\n",
        "    if f_conversion_method(from_curr,to_curr) not in list_ccr:\n",
        "      op_val = convrt(from_value,from_curr, to_curr)\n",
        "    else:\n",
        "      i_conver_method = f_conversion_method(from_curr,to_curr)\n",
        "      i_op_val = convrt(from_value,from_curr, i_conver_method[0])\n",
        "      op_val = convrt(i_op_val,i_conver_method[0], to_curr)\n",
        "\n",
        "    #Finding the number of decimal points in output:\n",
        "    k = int(op.loc[op['country'] == t_curr]['no_of_decimal_places'].values)\n",
        "\n",
        "    #Printing the final output:\n",
        "    if f_curr == t_curr:\n",
        "      if k == 0:\n",
        "        f_value = f_value[:-3]\n",
        "      print(f\"{f_curr} {f_value} = {t_curr} {f_value}\")\n",
        "    else:\n",
        "      print(f\"{f_curr} {f_value} = {t_curr} {round(op_val[0],k)}\")\n",
        "  else:\n",
        "    print(f\"Unable to find rate for {f_curr}/{t_curr}\")\n",
        "else:\n",
        "  print(\"Hope you enjoyed, Thanks for visiting...\")"
      ],
      "execution_count": 429,
      "outputs": [
        {
          "output_type": "stream",
          "text": [
            "Hope you enjoyed, Thanks for visiting...\n"
          ],
          "name": "stdout"
        }
      ]
    },
    {
      "cell_type": "markdown",
      "metadata": {
        "id": "lyjijfPoUrnA",
        "colab_type": "text"
      },
      "source": [
        "#Some Results:\n",
        "All the below inputs entered manyally during program execution and passed successfully....\n",
        "\n",
        "Input: EUR 100.00 in NOK      >>>>>>>>>>   Output: EUR 100.00 = NOK 866.51\n",
        "\n",
        "Input: NOK 866.00 in EUR      >>>>>>>>>>   Output: NOK 866.00 = EUR 99.94\n",
        "\n",
        "Input: EUR 100.00 in CZK      >>>>>>>>>>   Output: EUR 100.00 = CZK 2760.28\n",
        "\n",
        "Input: CZK 2760.28 in EUR      >>>>>>>>>>  Output: CZK 2760.28 = EUR 100.0\n",
        "\n",
        "Input: DKK 100.00 in DKK       >>>>>>>>>>  Output: DKK 100.00 = DKK 100.00\n",
        "\n",
        "Input: NOK 2760.28 in DKD      >>>>>>>>>>Output: Unable to find rate for NOK/DKD\n",
        "\n",
        "Input: EUR 100.00 in DKK       >>>>>>>>>>  Output: EUR 100.00 = DKK 744.05\n",
        "\n",
        "Input: DKK 744.00 in EUR       >>>>>>>>>>  Output: DKK 744.00 = EUR 99.99"
      ]
    },
    {
      "cell_type": "code",
      "metadata": {
        "id": "j9t2-i-TNZck",
        "colab_type": "code",
        "colab": {}
      },
      "source": [
        ""
      ],
      "execution_count": 0,
      "outputs": []
    }
  ]
}